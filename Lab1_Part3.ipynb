{
 "cells": [
  {
   "cell_type": "markdown",
   "metadata": {},
   "source": [
    "## Problem 2: Summarizing trending topics about a location (place).\n",
    "<p>When we are visiting places (say, for an interview or other official visits) you may want to about\n",
    "topics trending in that place. Instead of reading newspapers and online news, you want just a\n",
    "quick summary. You want to put use your twitter “data client” application development\n",
    "experience. You use the twitteR libraries “trends” function to retrieve 10 top things trending\n",
    "about the place and summarize it appropriately as a complete message (print out). \n",
    "nput: Location specified either as geo-location or by its name Output: A message listing the\n",
    "topics trending about the place. (Day 6)\n",
    "(5 points) Generalize: Once above problem is completed generalize your solution for any\n",
    "location. Add a text input widget for inputting the location. (Day 7)  </p>  "
   ]
  },
  {
   "cell_type": "markdown",
   "metadata": {},
   "source": [
    "<p>loading required libraries and setting up OAuth for twitteR library</p>"
   ]
  },
  {
   "cell_type": "code",
   "execution_count": 1,
   "metadata": {
    "collapsed": true
   },
   "outputs": [
    {
     "name": "stderr",
     "output_type": "stream",
     "text": [
      "Loading required package: RColorBrewer\n",
      "Loading required package: NLP\n",
      "Loading required package: ggplot2\n",
      "\n",
      "Attaching package: 'ggplot2'\n",
      "\n",
      "The following object is masked from 'package:NLP':\n",
      "\n",
      "    annotate\n",
      "\n"
     ]
    },
    {
     "name": "stdout",
     "output_type": "stream",
     "text": [
      "[1] \"Using direct authentication\"\n"
     ]
    }
   ],
   "source": [
    "library(\"twitteR\")\n",
    "library(\"tm\")\n",
    "library(\"ggmap\")\n",
    "consumer_key <- 'CmGTkI5bdCzyaugtN3AhAfqwK'\n",
    "consumer_secret <- 'ewgYxToQ2L96A1csTbbhUH1VWvE2CXS396gveorvfX3aXoVD8P'\n",
    "access_token <- '31837968-WnItKCzUNtUSJ77xUWRMzsjx470EhmbWpzvoFhsRg'\n",
    "access_secret <- 'NCJ54IE3nUFGO8DVup9mdWxhwVqaAqWDJnMcUKxgQ4lDJ'\n",
    "setup_twitter_oauth(consumer_key,consumer_secret,access_token,access_secret)"
   ]
  },
  {
   "cell_type": "markdown",
   "metadata": {},
   "source": [
    "<p><b>Replace NewYork with the place of your choice to get trending topics in that region</b></p>"
   ]
  },
  {
   "cell_type": "code",
   "execution_count": 25,
   "metadata": {
    "collapsed": true
   },
   "outputs": [],
   "source": [
    "user_location <- 'NewYork'# user input for location"
   ]
  },
  {
   "cell_type": "markdown",
   "metadata": {},
   "source": [
    "<p>Here we first get the latitude and longitude pair for the user specefied location using Google Maps API\n",
    "    Then we use closestTrendLocations() funtion to get the near by locations to that latitude longitude pair.\n",
    "    We extract the woeid for the first nearby location and pass it on to getTrends() function which returns\n",
    "    the trending topics in that region</p>"
   ]
  },
  {
   "cell_type": "code",
   "execution_count": 38,
   "metadata": {
    "collapsed": false
   },
   "outputs": [
    {
     "name": "stderr",
     "output_type": "stream",
     "text": [
      "Information from URL : http://maps.googleapis.com/maps/api/geocode/json?address=NewYork&sensor=false\n"
     ]
    },
    {
     "name": "stdout",
     "output_type": "stream",
     "text": [
      "Location latitude is  40.71278Location longitude is  -74.00594"
     ]
    }
   ],
   "source": [
    "lat_lon <-  geocode(user_location)\n",
    "cat(\"Location latitude is \",lat_lon$lat)\n",
    "cat(\"Location longitude is \",lat_lon$lon)\n",
    "trendingLocations <- closestTrendLocations(lat_lom$lat,lat_lom$lon)\n",
    "woeid = trendingLocations[1, \"woeid\"]\n",
    "trends <- getTrends(woeid)"
   ]
  },
  {
   "cell_type": "markdown",
   "metadata": {},
   "source": [
    "<p>Extracting the names out of trends objet</p>"
   ]
  },
  {
   "cell_type": "code",
   "execution_count": 39,
   "metadata": {
    "collapsed": false
   },
   "outputs": [
    {
     "data": {
      "text/html": [
       "<ol class=list-inline>\n",
       "\t<li>'Kylie Lip Kits'</li>\n",
       "\t<li>'#HTGAWM'</li>\n",
       "\t<li>'#hurtbae'</li>\n",
       "\t<li>'#PresidentialTVShows'</li>\n",
       "\t<li>'#Scandal'</li>\n",
       "\t<li>'#SJUBase'</li>\n",
       "\t<li>'Scott Pruitt'</li>\n",
       "\t<li>'American People'</li>\n",
       "\t<li>'The Animal'</li>\n",
       "\t<li>'Trent Richardson'</li>\n",
       "\t<li>'Goose Gossage'</li>\n",
       "\t<li>'Brad Grey'</li>\n",
       "\t<li>'Lucifer'</li>\n",
       "\t<li>'Nick Swisher'</li>\n",
       "\t<li>'Nivia Fernández'</li>\n",
       "\t<li>'Mary Poppins Returns'</li>\n",
       "\t<li>'Michael Floyd'</li>\n",
       "\t<li>'Naomi Oreskes'</li>\n",
       "\t<li>'Bill Johnston'</li>\n",
       "\t<li>'HELLA BEADS'</li>\n",
       "\t<li>'Reggie Jackson'</li>\n",
       "\t<li>'TJ Hopkins'</li>\n",
       "\t<li>'Zealandia'</li>\n",
       "\t<li>'UNCG'</li>\n",
       "\t<li>'Danny Blair'</li>\n",
       "\t<li>'Jeff Green'</li>\n",
       "\t<li>'John Bolton'</li>\n",
       "\t<li>'#ADayWithoutImmigrants'</li>\n",
       "\t<li>'#LARain'</li>\n",
       "\t<li>'#DayofFacts'</li>\n",
       "\t<li>'#Logan'</li>\n",
       "\t<li>'#FridayFeeling'</li>\n",
       "\t<li>'#RandomActsOfKindnessDay'</li>\n",
       "\t<li>'#StormWatch'</li>\n",
       "\t<li>'#Change2LettersRuinAFilm'</li>\n",
       "\t<li>'#RejectedPixarCharacters'</li>\n",
       "\t<li>'#FlashbackFriday'</li>\n",
       "\t<li>'#ClickBaitSpring'</li>\n",
       "\t<li>'#TheClash'</li>\n",
       "\t<li>'#OpeningDay'</li>\n",
       "\t<li>'#NewMusicFriday'</li>\n",
       "\t<li>'#FineWomenFriday'</li>\n",
       "\t<li>'#VampsAtQ102'</li>\n",
       "\t<li>'#generalstrike'</li>\n",
       "\t<li>'#LittleMixBRITs'</li>\n",
       "\t<li>'#MobileLiving'</li>\n",
       "\t<li>'#RESERVED'</li>\n",
       "\t<li>'#EgyptASong'</li>\n",
       "\t<li>'#Bundesliga'</li>\n",
       "\t<li>'#Ticketstock'</li>\n",
       "</ol>\n"
      ],
      "text/latex": [
       "\\begin{enumerate*}\n",
       "\\item 'Kylie Lip Kits'\n",
       "\\item '\\#HTGAWM'\n",
       "\\item '\\#hurtbae'\n",
       "\\item '\\#PresidentialTVShows'\n",
       "\\item '\\#Scandal'\n",
       "\\item '\\#SJUBase'\n",
       "\\item 'Scott Pruitt'\n",
       "\\item 'American People'\n",
       "\\item 'The Animal'\n",
       "\\item 'Trent Richardson'\n",
       "\\item 'Goose Gossage'\n",
       "\\item 'Brad Grey'\n",
       "\\item 'Lucifer'\n",
       "\\item 'Nick Swisher'\n",
       "\\item 'Nivia Fernández'\n",
       "\\item 'Mary Poppins Returns'\n",
       "\\item 'Michael Floyd'\n",
       "\\item 'Naomi Oreskes'\n",
       "\\item 'Bill Johnston'\n",
       "\\item 'HELLA BEADS'\n",
       "\\item 'Reggie Jackson'\n",
       "\\item 'TJ Hopkins'\n",
       "\\item 'Zealandia'\n",
       "\\item 'UNCG'\n",
       "\\item 'Danny Blair'\n",
       "\\item 'Jeff Green'\n",
       "\\item 'John Bolton'\n",
       "\\item '\\#ADayWithoutImmigrants'\n",
       "\\item '\\#LARain'\n",
       "\\item '\\#DayofFacts'\n",
       "\\item '\\#Logan'\n",
       "\\item '\\#FridayFeeling'\n",
       "\\item '\\#RandomActsOfKindnessDay'\n",
       "\\item '\\#StormWatch'\n",
       "\\item '\\#Change2LettersRuinAFilm'\n",
       "\\item '\\#RejectedPixarCharacters'\n",
       "\\item '\\#FlashbackFriday'\n",
       "\\item '\\#ClickBaitSpring'\n",
       "\\item '\\#TheClash'\n",
       "\\item '\\#OpeningDay'\n",
       "\\item '\\#NewMusicFriday'\n",
       "\\item '\\#FineWomenFriday'\n",
       "\\item '\\#VampsAtQ102'\n",
       "\\item '\\#generalstrike'\n",
       "\\item '\\#LittleMixBRITs'\n",
       "\\item '\\#MobileLiving'\n",
       "\\item '\\#RESERVED'\n",
       "\\item '\\#EgyptASong'\n",
       "\\item '\\#Bundesliga'\n",
       "\\item '\\#Ticketstock'\n",
       "\\end{enumerate*}\n"
      ],
      "text/markdown": [
       "1. 'Kylie Lip Kits'\n",
       "2. '#HTGAWM'\n",
       "3. '#hurtbae'\n",
       "4. '#PresidentialTVShows'\n",
       "5. '#Scandal'\n",
       "6. '#SJUBase'\n",
       "7. 'Scott Pruitt'\n",
       "8. 'American People'\n",
       "9. 'The Animal'\n",
       "10. 'Trent Richardson'\n",
       "11. 'Goose Gossage'\n",
       "12. 'Brad Grey'\n",
       "13. 'Lucifer'\n",
       "14. 'Nick Swisher'\n",
       "15. 'Nivia Fernández'\n",
       "16. 'Mary Poppins Returns'\n",
       "17. 'Michael Floyd'\n",
       "18. 'Naomi Oreskes'\n",
       "19. 'Bill Johnston'\n",
       "20. 'HELLA BEADS'\n",
       "21. 'Reggie Jackson'\n",
       "22. 'TJ Hopkins'\n",
       "23. 'Zealandia'\n",
       "24. 'UNCG'\n",
       "25. 'Danny Blair'\n",
       "26. 'Jeff Green'\n",
       "27. 'John Bolton'\n",
       "28. '#ADayWithoutImmigrants'\n",
       "29. '#LARain'\n",
       "30. '#DayofFacts'\n",
       "31. '#Logan'\n",
       "32. '#FridayFeeling'\n",
       "33. '#RandomActsOfKindnessDay'\n",
       "34. '#StormWatch'\n",
       "35. '#Change2LettersRuinAFilm'\n",
       "36. '#RejectedPixarCharacters'\n",
       "37. '#FlashbackFriday'\n",
       "38. '#ClickBaitSpring'\n",
       "39. '#TheClash'\n",
       "40. '#OpeningDay'\n",
       "41. '#NewMusicFriday'\n",
       "42. '#FineWomenFriday'\n",
       "43. '#VampsAtQ102'\n",
       "44. '#generalstrike'\n",
       "45. '#LittleMixBRITs'\n",
       "46. '#MobileLiving'\n",
       "47. '#RESERVED'\n",
       "48. '#EgyptASong'\n",
       "49. '#Bundesliga'\n",
       "50. '#Ticketstock'\n",
       "\n",
       "\n"
      ],
      "text/plain": [
       " [1] \"Kylie Lip Kits\"           \"#HTGAWM\"                 \n",
       " [3] \"#hurtbae\"                 \"#PresidentialTVShows\"    \n",
       " [5] \"#Scandal\"                 \"#SJUBase\"                \n",
       " [7] \"Scott Pruitt\"             \"American People\"         \n",
       " [9] \"The Animal\"               \"Trent Richardson\"        \n",
       "[11] \"Goose Gossage\"            \"Brad Grey\"               \n",
       "[13] \"Lucifer\"                  \"Nick Swisher\"            \n",
       "[15] \"Nivia Fernández\"          \"Mary Poppins Returns\"    \n",
       "[17] \"Michael Floyd\"            \"Naomi Oreskes\"           \n",
       "[19] \"Bill Johnston\"            \"HELLA BEADS\"             \n",
       "[21] \"Reggie Jackson\"           \"TJ Hopkins\"              \n",
       "[23] \"Zealandia\"                \"UNCG\"                    \n",
       "[25] \"Danny Blair\"              \"Jeff Green\"              \n",
       "[27] \"John Bolton\"              \"#ADayWithoutImmigrants\"  \n",
       "[29] \"#LARain\"                  \"#DayofFacts\"             \n",
       "[31] \"#Logan\"                   \"#FridayFeeling\"          \n",
       "[33] \"#RandomActsOfKindnessDay\" \"#StormWatch\"             \n",
       "[35] \"#Change2LettersRuinAFilm\" \"#RejectedPixarCharacters\"\n",
       "[37] \"#FlashbackFriday\"         \"#ClickBaitSpring\"        \n",
       "[39] \"#TheClash\"                \"#OpeningDay\"             \n",
       "[41] \"#NewMusicFriday\"          \"#FineWomenFriday\"        \n",
       "[43] \"#VampsAtQ102\"             \"#generalstrike\"          \n",
       "[45] \"#LittleMixBRITs\"          \"#MobileLiving\"           \n",
       "[47] \"#RESERVED\"                \"#EgyptASong\"             \n",
       "[49] \"#Bundesliga\"              \"#Ticketstock\"            "
      ]
     },
     "metadata": {},
     "output_type": "display_data"
    }
   ],
   "source": [
    "trends$name"
   ]
  }
 ],
 "metadata": {
  "anaconda-cloud": {},
  "kernelspec": {
   "display_name": "R",
   "language": "R",
   "name": "ir"
  },
  "language_info": {
   "codemirror_mode": "r",
   "file_extension": ".r",
   "mimetype": "text/x-r-source",
   "name": "R",
   "pygments_lexer": "r",
   "version": "3.3.2"
  }
 },
 "nbformat": 4,
 "nbformat_minor": 1
}
