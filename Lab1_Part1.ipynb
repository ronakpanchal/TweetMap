{
 "cells": [
  {
   "cell_type": "markdown",
   "metadata": {},
   "source": [
    "<p><b>(10 points) Learning Jupyter, R and twitteR: All these can be achieved by one activity: working\n",
    "with twitteR package library vignette. Type in the R language instructions for each example\n",
    "discussed: try it with different names and twitter hash tags. I tried it with “#datascience” for\n",
    "topics and for person I used “elonmusk”. You don’t try the same, you try some other hashtag\n",
    "and person of interest to you. Time needed: 2-3 hours (Day 2)</b></p>"
   ]
  },
  {
   "cell_type": "code",
   "execution_count": 3,
   "metadata": {
    "collapsed": false
   },
   "outputs": [
    {
     "name": "stderr",
     "output_type": "stream",
     "text": [
      "Loading required package: NLP\n",
      "Loading required package: ggplot2\n",
      "\n",
      "Attaching package: 'ggplot2'\n",
      "\n",
      "The following object is masked from 'package:NLP':\n",
      "\n",
      "    annotate\n",
      "\n"
     ]
    },
    {
     "name": "stdout",
     "output_type": "stream",
     "text": [
      "[1] \"Using direct authentication\"\n"
     ]
    }
   ],
   "source": [
    "library(\"twitteR\")\n",
    "library(\"tm\")\n",
    "library(\"ggmap\")\n",
    "consumer_key <- 'CmGTkI5bdCzyaugtN3AhAfqwK'\n",
    "consumer_secret <- 'ewgYxToQ2L96A1csTbbhUH1VWvE2CXS396gveorvfX3aXoVD8P'\n",
    "access_token <- '31837968-WnItKCzUNtUSJ77xUWRMzsjx470EhmbWpzvoFhsRg'\n",
    "access_secret <- 'NCJ54IE3nUFGO8DVup9mdWxhwVqaAqWDJnMcUKxgQ4lDJ'\n",
    "setup_twitter_oauth(consumer_key,consumer_secret,access_token,access_secret)"
   ]
  },
  {
   "cell_type": "code",
   "execution_count": 4,
   "metadata": {
    "collapsed": false
   },
   "outputs": [],
   "source": [
    "register_sqlite_backend(\"./SuperBowl_Tweets\") "
   ]
  },
  {
   "cell_type": "code",
   "execution_count": 5,
   "metadata": {
    "collapsed": false
   },
   "outputs": [
    {
     "data": {
      "text/html": [
       "TRUE"
      ],
      "text/latex": [
       "TRUE"
      ],
      "text/markdown": [
       "TRUE"
      ],
      "text/plain": [
       "[1] TRUE"
      ]
     },
     "metadata": {},
     "output_type": "display_data"
    },
    {
     "data": {
      "text/html": [
       "TRUE"
      ],
      "text/latex": [
       "TRUE"
      ],
      "text/markdown": [
       "TRUE"
      ],
      "text/plain": [
       "[1] TRUE"
      ]
     },
     "metadata": {},
     "output_type": "display_data"
    },
    {
     "data": {
      "text/html": [
       "TRUE"
      ],
      "text/latex": [
       "TRUE"
      ],
      "text/markdown": [
       "TRUE"
      ],
      "text/plain": [
       "[1] TRUE"
      ]
     },
     "metadata": {},
     "output_type": "display_data"
    }
   ],
   "source": [
    "tweets <- searchTwitter(\"#PepsiHalftime\",n=100)\n",
    "store_tweets_db(tweets)\n",
    "tweets <- searchTwitter(\"#halftime \",n=100)\n",
    "store_tweets_db(tweets)\n",
    "tweets <- searchTwitter(\"#gaga\", n=100)\n",
    "store_tweets_db(tweets)\n",
    "tweets_LA_halfTime <- searchTwitter(\"#halftime\", n=20,lang=\"en\",geocode='34.04993,-118.24084,50mi')"
   ]
  },
  {
   "cell_type": "code",
   "execution_count": 6,
   "metadata": {
    "collapsed": false
   },
   "outputs": [
    {
     "name": "stdout",
     "output_type": "stream",
     "text": [
      "Number of tweets with duplicates  100Number of tweets without duplicates  40"
     ]
    }
   ],
   "source": [
    "ads_tweets <- searchTwitter(\"#SuperBowlCommercials\", n=100)\n",
    "cat(\"Number of tweets with duplicates \", length(ads_tweets))\n",
    "unique_tweets <- strip_retweets(ads_tweets, strip_manual = TRUE, strip_mt = TRUE)\n",
    "cat(\"Number of tweets without duplicates \", length(unique_tweets))"
   ]
  },
  {
   "cell_type": "code",
   "execution_count": 8,
   "metadata": {
    "collapsed": false
   },
   "outputs": [
    {
     "data": {
      "text/html": [
       "7"
      ],
      "text/latex": [
       "7"
      ],
      "text/markdown": [
       "7"
      ],
      "text/plain": [
       "[1] 7"
      ]
     },
     "metadata": {},
     "output_type": "display_data"
    }
   ],
   "source": [
    "search_twitter_and_store(\"#gaga\", table_name = \"tweets\")"
   ]
  },
  {
   "cell_type": "code",
   "execution_count": 9,
   "metadata": {
    "collapsed": true
   },
   "outputs": [],
   "source": [
    "tweets_from_DB <- load_tweets_db(as.data.frame = FALSE, table_name = \"tweets\")\n",
    "tweet_Frame <- twListToDF(tweets_from_DB)\n",
    "user_Info <- lookupUsers(tweet_Frame$screenName)"
   ]
  },
  {
   "cell_type": "code",
   "execution_count": 17,
   "metadata": {
    "collapsed": false
   },
   "outputs": [
    {
     "data": {
      "text/plain": [
       "[[1]]\n",
       "[1] \"usovotacaolg: Muita história #VideoLove Lady Gaga https://t.co/wWMWcRAaoK\"\n",
       "\n",
       "[[2]]\n",
       "[1] \"usovotacaolg: Grito #VideoLove Lady Gaga https://t.co/KRLnAOmNLP\"\n"
      ]
     },
     "metadata": {},
     "output_type": "display_data"
    }
   ],
   "source": [
    "timelineTweets <- userTimeline(user_Info[[2]],10)\n",
    "timelineTweets"
   ]
  },
  {
   "cell_type": "code",
   "execution_count": 31,
   "metadata": {
    "collapsed": false
   },
   "outputs": [
    {
     "data": {
      "text/html": [
       "0"
      ],
      "text/latex": [
       "0"
      ],
      "text/markdown": [
       "0"
      ],
      "text/plain": [
       "[1] 0"
      ]
     },
     "metadata": {},
     "output_type": "display_data"
    }
   ],
   "source": [
    "my_tweets <- retweetsOfMe(n=5)\n",
    "length(my_tweets)"
   ]
  },
  {
   "cell_type": "code",
   "execution_count": 8,
   "metadata": {
    "collapsed": false
   },
   "outputs": [
    {
     "data": {
      "text/html": [
       "TRUE"
      ],
      "text/latex": [
       "TRUE"
      ],
      "text/markdown": [
       "TRUE"
      ],
      "text/plain": [
       "[1] TRUE"
      ]
     },
     "metadata": {},
     "output_type": "display_data"
    },
    {
     "data": {
      "text/plain": [
       "[1] \"ronakpnchl: Hello twitter\""
      ]
     },
     "metadata": {},
     "output_type": "display_data"
    }
   ],
   "source": [
    "status <- tweet('Learning to use twitteR package 3')\n",
    "deleteStatus(status=status)\n",
    "status <- updateStatus(\"Hello twitter\")\n",
    "status"
   ]
  },
  {
   "cell_type": "code",
   "execution_count": 9,
   "metadata": {
    "collapsed": false
   },
   "outputs": [
    {
     "data": {
      "text/html": [
       "TRUE"
      ],
      "text/latex": [
       "TRUE"
      ],
      "text/markdown": [
       "TRUE"
      ],
      "text/plain": [
       "[1] TRUE"
      ]
     },
     "metadata": {},
     "output_type": "display_data"
    }
   ],
   "source": [
    "deleteStatus(status=status)"
   ]
  },
  {
   "cell_type": "code",
   "execution_count": 29,
   "metadata": {
    "collapsed": false
   },
   "outputs": [
    {
     "data": {
      "text/html": [
       "'832757447433474048'"
      ],
      "text/latex": [
       "'832757447433474048'"
      ],
      "text/markdown": [
       "'832757447433474048'"
      ],
      "text/plain": [
       "[1] \"832757447433474048\""
      ]
     },
     "metadata": {},
     "output_type": "display_data"
    }
   ],
   "source": [
    "tweet_id <- get_latest_tweet_id(table_name = \"tweets\")\n",
    "tweet_id"
   ]
  },
  {
   "cell_type": "code",
   "execution_count": 39,
   "metadata": {
    "collapsed": false
   },
   "outputs": [
    {
     "data": {
      "text/html": [
       "<table>\n",
       "<thead><tr><th scope=col>name</th><th scope=col>screen_name</th><th scope=col>id</th><th scope=col>following</th><th scope=col>followed_by</th></tr></thead>\n",
       "<tbody>\n",
       "\t<tr><td>Juan David                                                                                                                                                                            </td><td>JuanDavid181001                                                                                                                                                                       </td><td>2463912516                                                                                                                                                                            </td><td>FALSE                                                                                                                                                                                 </td><td>FALSE                                                                                                                                                                                 </td></tr>\n",
       "\t<tr><td><span style=white-space:pre-wrap>LR Votações &lt;ed&gt;&lt;U+00A0&gt;&lt;U+00BC&gt;&lt;ed&gt;&lt;U+00BF&gt;&lt;U+0088&gt;                                                                                                                                  </span></td><td><span style=white-space:pre-wrap>usovotacaolg   </span>                                                                                                                                                                                                           </td><td>794702291156733952                                                                                                                                                                                                                                                </td><td>FALSE                                                                                                                                                                                                                                                             </td><td>FALSE                                                                                                                                                                                                                                                             </td></tr>\n",
       "\t<tr><td>come to mama                                                                                                                                                                          </td><td>JoseCarlitos_                                                                                                                                                                         </td><td>291814844                                                                                                                                                                             </td><td>FALSE                                                                                                                                                                                 </td><td>FALSE                                                                                                                                                                                 </td></tr>\n",
       "\t<tr><td>THEFAIZROSLAN                                                                                                                                                                         </td><td>thefaizroslan                                                                                                                                                                         </td><td>2429731405                                                                                                                                                                            </td><td>FALSE                                                                                                                                                                                 </td><td>FALSE                                                                                                                                                                                 </td></tr>\n",
       "\t<tr><td>&lt;ed&gt;&lt;U+00A0&gt;&lt;U+00BC&gt;&lt;ed&gt;&lt;U+00B7&gt;&lt;U+00B2&gt;&lt;ed&gt;&lt;U+00A0&gt;&lt;U+00BC&gt;&lt;ed&gt;&lt;U+00B7&gt;&lt;U+00BD&gt;adrian&lt;ed&gt;&lt;U+00A0&gt;&lt;U+00BC&gt;&lt;ed&gt;&lt;U+00BF&gt;&lt;U+00B3&gt;&lt;U+FE0F&gt;&lt;U+200D&gt;&lt;ed&gt;&lt;U+00A0&gt;&lt;U+00BC&gt;&lt;ed&gt;&lt;U+00BC&gt;&lt;U+0088&gt;</td><td><span style=white-space:pre-wrap>vxnusadrian    </span>                                                                                                                                                                                                                                                                                           </td><td><span style=white-space:pre-wrap>442395287         </span>                                                                                                                                                                                                                                                                                        </td><td>FALSE                                                                                                                                                                                                                                                                                                                                             </td><td>FALSE                                                                                                                                                                                                                                                                                                                                             </td></tr>\n",
       "</tbody>\n",
       "</table>\n"
      ],
      "text/latex": [
       "\\begin{tabular}{r|lllll}\n",
       " name & screen\\_name & id & following & followed\\_by\\\\\n",
       "\\hline\n",
       "\t Juan David                                                                                                                                                                             & JuanDavid181001                                                                                                                                                                        & 2463912516                                                                                                                                                                             & FALSE                                                                                                                                                                                  & FALSE                                                                                                                                                                                 \\\\\n",
       "\t LR Votações <ed><U+00A0><U+00BC><ed><U+00BF><U+0088>                                                                                                                                   & usovotacaolg                                                                                                                                                                           & 794702291156733952                                                                                                                                                                     & FALSE                                                                                                                                                                                  & FALSE                                                                                                                                                                                 \\\\\n",
       "\t come to mama                                                                                                                                                                           & JoseCarlitos\\_                                                                                                                                                                        & 291814844                                                                                                                                                                              & FALSE                                                                                                                                                                                  & FALSE                                                                                                                                                                                 \\\\\n",
       "\t THEFAIZROSLAN                                                                                                                                                                          & thefaizroslan                                                                                                                                                                          & 2429731405                                                                                                                                                                             & FALSE                                                                                                                                                                                  & FALSE                                                                                                                                                                                 \\\\\n",
       "\t <ed><U+00A0><U+00BC><ed><U+00B7><U+00B2><ed><U+00A0><U+00BC><ed><U+00B7><U+00BD>adrian<ed><U+00A0><U+00BC><ed><U+00BF><U+00B3><U+FE0F><U+200D><ed><U+00A0><U+00BC><ed><U+00BC><U+0088> & vxnusadrian                                                                                                                                                                            & 442395287                                                                                                                                                                              & FALSE                                                                                                                                                                                  & FALSE                                                                                                                                                                                 \\\\\n",
       "\\end{tabular}\n"
      ],
      "text/markdown": [
       "\n",
       "name | screen_name | id | following | followed_by | \n",
       "|---|---|---|---|---|\n",
       "| Juan David                                                                                                                                                                             | JuanDavid181001                                                                                                                                                                        | 2463912516                                                                                                                                                                             | FALSE                                                                                                                                                                                  | FALSE                                                                                                                                                                                  | \n",
       "| LR Votações <ed><U+00A0><U+00BC><ed><U+00BF><U+0088>                                                                                                                                   | usovotacaolg                                                                                                                                                                           | 794702291156733952                                                                                                                                                                     | FALSE                                                                                                                                                                                  | FALSE                                                                                                                                                                                  | \n",
       "| come to mama                                                                                                                                                                           | JoseCarlitos_                                                                                                                                                                          | 291814844                                                                                                                                                                              | FALSE                                                                                                                                                                                  | FALSE                                                                                                                                                                                  | \n",
       "| THEFAIZROSLAN                                                                                                                                                                          | thefaizroslan                                                                                                                                                                          | 2429731405                                                                                                                                                                             | FALSE                                                                                                                                                                                  | FALSE                                                                                                                                                                                  | \n",
       "| <ed><U+00A0><U+00BC><ed><U+00B7><U+00B2><ed><U+00A0><U+00BC><ed><U+00B7><U+00BD>adrian<ed><U+00A0><U+00BC><ed><U+00BF><U+00B3><U+FE0F><U+200D><ed><U+00A0><U+00BC><ed><U+00BC><U+0088> | vxnusadrian                                                                                                                                                                            | 442395287                                                                                                                                                                              | FALSE                                                                                                                                                                                  | FALSE                                                                                                                                                                                  | \n",
       "\n",
       "\n"
      ],
      "text/plain": [
       "  name                                                                                                                                                                                  \n",
       "1 Juan David                                                                                                                                                                            \n",
       "2 LR Votações <ed><U+00A0><U+00BC><ed><U+00BF><U+0088>                                                                                                                                  \n",
       "3 come to mama                                                                                                                                                                          \n",
       "4 THEFAIZROSLAN                                                                                                                                                                         \n",
       "5 <ed><U+00A0><U+00BC><ed><U+00B7><U+00B2><ed><U+00A0><U+00BC><ed><U+00B7><U+00BD>adrian<ed><U+00A0><U+00BC><ed><U+00BF><U+00B3><U+FE0F><U+200D><ed><U+00A0><U+00BC><ed><U+00BC><U+0088>\n",
       "  screen_name     id                 following followed_by\n",
       "1 JuanDavid181001 2463912516         FALSE     FALSE      \n",
       "2 usovotacaolg    794702291156733952 FALSE     FALSE      \n",
       "3 JoseCarlitos_   291814844          FALSE     FALSE      \n",
       "4 thefaizroslan   2429731405         FALSE     FALSE      \n",
       "5 vxnusadrian     442395287          FALSE     FALSE      "
      ]
     },
     "metadata": {},
     "output_type": "display_data"
    }
   ],
   "source": [
    "users <- tweet_Frame$screenName[1:5]\n",
    "friendships(screen_names=users)"
   ]
  },
  {
   "cell_type": "code",
   "execution_count": 6,
   "metadata": {
    "collapsed": false
   },
   "outputs": [
    {
     "data": {
      "text/plain": [
       "[[1]]\n",
       "[1] \"nytimes: What makes someone American? We asked 9 U.S. citizens to tell us about belonging and not belonging in America.",
       " https://t.co/CJHQqbDLuD\"\n",
       "\n",
       "[[2]]\n",
       "[1] \"NYCMayor: Stay safe today, New York City. https://t.co/M3pfkOAG9u\"\n",
       "\n",
       "[[3]]\n",
       "[1] \"ellisonbg: xtensor is a game changing templated C++ array library - all the power/lessons of NumPy to a beautiful/fast C++ API https://t.co/59wQcFQWJc\"\n"
      ]
     },
     "metadata": {},
     "output_type": "display_data"
    }
   ],
   "source": [
    "my_favorites <- favorites(\"ronakpnchl\", n = 20)\n",
    "head(my_favorites,3)"
   ]
  },
  {
   "cell_type": "code",
   "execution_count": null,
   "metadata": {
    "collapsed": true
   },
   "outputs": [],
   "source": []
  },
  {
   "cell_type": "code",
   "execution_count": null,
   "metadata": {
    "collapsed": true
   },
   "outputs": [],
   "source": []
  }
 ],
 "metadata": {
  "anaconda-cloud": {},
  "kernelspec": {
   "display_name": "R",
   "language": "R",
   "name": "ir"
  },
  "language_info": {
   "codemirror_mode": "r",
   "file_extension": ".r",
   "mimetype": "text/x-r-source",
   "name": "R",
   "pygments_lexer": "r",
   "version": "3.3.2"
  }
 },
 "nbformat": 4,
 "nbformat_minor": 1
}
